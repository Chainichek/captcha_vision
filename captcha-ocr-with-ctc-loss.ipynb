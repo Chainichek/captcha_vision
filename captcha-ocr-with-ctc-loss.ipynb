{
 "metadata": {
  "kernelspec": {
   "language": "python",
   "display_name": "Python 3",
   "name": "python3"
  },
  "language_info": {
   "name": "python",
   "version": "3.10.13",
   "mimetype": "text/x-python",
   "codemirror_mode": {
    "name": "ipython",
    "version": 3
   },
   "pygments_lexer": "ipython3",
   "nbconvert_exporter": "python",
   "file_extension": ".py"
  },
  "kaggle": {
   "accelerator": "nvidiaTeslaT4",
   "dataSources": [
    {
     "sourceId": 306654,
     "sourceType": "datasetVersion",
     "datasetId": 38019
    }
   ],
   "dockerImageVersionId": 30698,
   "isInternetEnabled": false,
   "language": "python",
   "sourceType": "notebook",
   "isGpuEnabled": true
  }
 },
 "nbformat_minor": 4,
 "nbformat": 4,
 "cells": [
  {
   "cell_type": "code",
   "source": [
    "\n",
    "import numpy as np # linear algebra\n",
    "import pandas as pd # data processing, CSV file I/O (e.g. pd.read_csv)\n",
    "\n",
    "# Input data files are available in the read-only \"../input/\" directory\n",
    "# For example, running this (by clicking run or pressing Shift+Enter) will list all files under the input directory\n",
    "\n",
    "import os\n",
    "for dirname, _, filenames in os.walk('./mp'):\n",
    "    for filename in filenames:\n",
    "        print(os.path.join(dirname, filename))\n"
   ],
   "metadata": {
    "_uuid": "8f2839f25d086af736a60e9eeb907d3b93b6e0e5",
    "_cell_guid": "b1076dfc-b9ad-4769-8c92-a6c4dae69d19",
    "_kg_hide-output": true,
    "execution": {
     "iopub.status.busy": "2024-05-18T08:16:38.240935Z",
     "iopub.execute_input": "2024-05-18T08:16:38.241227Z",
     "iopub.status.idle": "2024-05-18T08:16:40.270048Z",
     "shell.execute_reply.started": "2024-05-18T08:16:38.2412Z",
     "shell.execute_reply": "2024-05-18T08:16:40.26886Z"
    },
    "collapsed": true,
    "jupyter": {
     "outputs_hidden": true
    },
    "trusted": true,
    "ExecuteTime": {
     "end_time": "2024-05-20T09:04:19.339352Z",
     "start_time": "2024-05-20T09:04:19.334798Z"
    }
   },
   "execution_count": 66,
   "outputs": []
  },
  {
   "cell_type": "markdown",
   "source": "# Import Libraries",
   "metadata": {}
  },
  {
   "cell_type": "code",
   "source": "import os\nos.environ[\"TF_CPP_MIN_LOG_LEVEL\"] = \"3\"\n\nimport numpy as np\nimport pandas as pd\n\nimport tqdm\nimport matplotlib.pyplot as plt\nfrom PIL import Image\n\nimport tensorflow as tf\nfrom tensorflow.keras import layers, models, optimizers, losses\nfrom tensorflow.keras.backend import ctc_batch_cost, ctc_decode\nfrom tensorflow.keras.utils import to_categorical, plot_model\nfrom tensorflow.keras.callbacks import EarlyStopping\nfrom tensorflow.keras.preprocessing.text import Tokenizer\nfrom tensorflow.keras.preprocessing.sequence import pad_sequences\n\nfrom sklearn.model_selection import train_test_split",
   "metadata": {
    "execution": {
     "iopub.status.busy": "2024-05-18T08:16:53.631066Z",
     "iopub.execute_input": "2024-05-18T08:16:53.631768Z",
     "iopub.status.idle": "2024-05-18T08:17:07.730545Z",
     "shell.execute_reply.started": "2024-05-18T08:16:53.631734Z",
     "shell.execute_reply": "2024-05-18T08:17:07.729648Z"
    },
    "trusted": true,
    "ExecuteTime": {
     "end_time": "2024-05-20T09:04:19.464898Z",
     "start_time": "2024-05-20T09:04:19.461997Z"
    }
   },
   "execution_count": 67,
   "outputs": []
  },
  {
   "cell_type": "markdown",
   "source": "# Load Data",
   "metadata": {}
  },
  {
   "cell_type": "code",
   "source": "root_dir = \"./mp/samples\"",
   "metadata": {
    "execution": {
     "iopub.status.busy": "2024-05-18T08:32:39.840868Z",
     "iopub.execute_input": "2024-05-18T08:32:39.84123Z",
     "iopub.status.idle": "2024-05-18T08:32:39.845716Z",
     "shell.execute_reply.started": "2024-05-18T08:32:39.841192Z",
     "shell.execute_reply": "2024-05-18T08:32:39.844762Z"
    },
    "trusted": true,
    "ExecuteTime": {
     "end_time": "2024-05-20T09:04:19.467676Z",
     "start_time": "2024-05-20T09:04:19.466050Z"
    }
   },
   "execution_count": 68,
   "outputs": []
  },
  {
   "cell_type": "code",
   "source": "image_paths = []\nlabels = []\n\nfor file in tqdm.tqdm(os.listdir(root_dir)):\n    filepath = os.path.join(root_dir, file)\n    label = filepath.split(\"/\")[-1].split(\".\")[0]\n\n    image_paths.append(filepath)\n    labels.append(label)",
   "metadata": {
    "execution": {
     "iopub.status.busy": "2024-05-18T08:32:43.024316Z",
     "iopub.execute_input": "2024-05-18T08:32:43.024668Z",
     "iopub.status.idle": "2024-05-18T08:32:43.040278Z",
     "shell.execute_reply.started": "2024-05-18T08:32:43.024643Z",
     "shell.execute_reply": "2024-05-18T08:32:43.039215Z"
    },
    "trusted": true,
    "ExecuteTime": {
     "end_time": "2024-05-20T09:04:19.481705Z",
     "start_time": "2024-05-20T09:04:19.477691Z"
    }
   },
   "execution_count": 69,
   "outputs": []
  },
  {
   "cell_type": "code",
   "source": "images_df = pd.DataFrame({\"image_path\": image_paths, \"label\": labels})\nimages_df.head()",
   "metadata": {
    "execution": {
     "iopub.status.busy": "2024-05-18T08:32:46.624867Z",
     "iopub.execute_input": "2024-05-18T08:32:46.625235Z",
     "iopub.status.idle": "2024-05-18T08:32:46.656628Z",
     "shell.execute_reply.started": "2024-05-18T08:32:46.625206Z",
     "shell.execute_reply": "2024-05-18T08:32:46.655613Z"
    },
    "trusted": true,
    "ExecuteTime": {
     "end_time": "2024-05-20T09:04:19.494014Z",
     "start_time": "2024-05-20T09:04:19.490014Z"
    }
   },
   "execution_count": 70,
   "outputs": []
  },
  {
   "cell_type": "code",
   "source": "characters = set(char for label in labels for char in label)\nprint(\"Characters:\\n\", characters)",
   "metadata": {
    "execution": {
     "iopub.status.busy": "2024-05-18T08:32:50.448696Z",
     "iopub.execute_input": "2024-05-18T08:32:50.449086Z",
     "iopub.status.idle": "2024-05-18T08:32:50.456162Z",
     "shell.execute_reply.started": "2024-05-18T08:32:50.449055Z",
     "shell.execute_reply": "2024-05-18T08:32:50.454929Z"
    },
    "trusted": true,
    "ExecuteTime": {
     "end_time": "2024-05-20T09:04:19.512861Z",
     "start_time": "2024-05-20T09:04:19.510379Z"
    }
   },
   "execution_count": 71,
   "outputs": []
  },
  {
   "cell_type": "markdown",
   "source": "# Preprocess",
   "metadata": {}
  },
  {
   "cell_type": "code",
   "source": "char_to_num = layers.StringLookup(\n    vocabulary = list(characters),\n    num_oov_indices = 0,\n    mask_token = None\n)",
   "metadata": {
    "execution": {
     "iopub.status.busy": "2024-05-18T08:32:57.896246Z",
     "iopub.execute_input": "2024-05-18T08:32:57.896667Z",
     "iopub.status.idle": "2024-05-18T08:32:58.771753Z",
     "shell.execute_reply.started": "2024-05-18T08:32:57.896639Z",
     "shell.execute_reply": "2024-05-18T08:32:58.770918Z"
    },
    "trusted": true,
    "ExecuteTime": {
     "end_time": "2024-05-20T09:04:19.531667Z",
     "start_time": "2024-05-20T09:04:19.527586Z"
    }
   },
   "execution_count": 72,
   "outputs": []
  },
  {
   "cell_type": "code",
   "source": "pd.DataFrame({\"char\": char_to_num.get_vocabulary(),\n              \"num\": np.arange(1, len(char_to_num.get_vocabulary())+1)})",
   "metadata": {
    "execution": {
     "iopub.status.busy": "2024-05-18T08:33:00.708676Z",
     "iopub.execute_input": "2024-05-18T08:33:00.709388Z",
     "iopub.status.idle": "2024-05-18T08:33:00.732228Z",
     "shell.execute_reply.started": "2024-05-18T08:33:00.709356Z",
     "shell.execute_reply": "2024-05-18T08:33:00.731222Z"
    },
    "trusted": true,
    "ExecuteTime": {
     "end_time": "2024-05-20T09:04:19.551891Z",
     "start_time": "2024-05-20T09:04:19.547188Z"
    }
   },
   "execution_count": 73,
   "outputs": []
  },
  {
   "cell_type": "code",
   "source": "num_to_char = layers.StringLookup(\n    vocabulary = char_to_num.get_vocabulary(),\n    mask_token = None,\n    invert = True\n)",
   "metadata": {
    "execution": {
     "iopub.status.busy": "2024-05-18T08:33:04.80129Z",
     "iopub.execute_input": "2024-05-18T08:33:04.80219Z",
     "iopub.status.idle": "2024-05-18T08:33:04.814418Z",
     "shell.execute_reply.started": "2024-05-18T08:33:04.802143Z",
     "shell.execute_reply": "2024-05-18T08:33:04.813501Z"
    },
    "trusted": true,
    "ExecuteTime": {
     "end_time": "2024-05-20T09:04:19.579135Z",
     "start_time": "2024-05-20T09:04:19.574213Z"
    }
   },
   "execution_count": 74,
   "outputs": []
  },
  {
   "cell_type": "code",
   "source": "def encode_single_sample(image_path, label):\n    image = tf.io.read_file(image_path)\n    image = tf.io.decode_png(image, channels=1)\n    image = tf.image.convert_image_dtype(image, tf.float32)\n    image = tf.image.resize(image, [50, 200])\n    image = tf.transpose(image, perm=[1, 0, 2])\n    label = char_to_num(tf.strings.unicode_split(label, input_encoding=\"UTF-8\"))\n    return image, label",
   "metadata": {
    "execution": {
     "iopub.status.busy": "2024-05-18T08:33:37.273925Z",
     "iopub.execute_input": "2024-05-18T08:33:37.274809Z",
     "iopub.status.idle": "2024-05-18T08:33:37.280549Z",
     "shell.execute_reply.started": "2024-05-18T08:33:37.274776Z",
     "shell.execute_reply": "2024-05-18T08:33:37.279539Z"
    },
    "trusted": true,
    "ExecuteTime": {
     "end_time": "2024-05-20T09:04:19.594535Z",
     "start_time": "2024-05-20T09:04:19.591947Z"
    }
   },
   "execution_count": 75,
   "outputs": []
  },
  {
   "cell_type": "code",
   "source": "def process_dataset(X, y):\n    images = []\n    labels = []\n    for img_path, label in zip(X, y):\n        img, lbl = encode_single_sample(img_path, label)\n        images.append(img.numpy())\n        labels.append(lbl.numpy())\n    return np.array(images), np.array(labels)",
   "metadata": {
    "execution": {
     "iopub.status.busy": "2024-05-18T08:33:38.802615Z",
     "iopub.execute_input": "2024-05-18T08:33:38.803012Z",
     "iopub.status.idle": "2024-05-18T08:33:38.809581Z",
     "shell.execute_reply.started": "2024-05-18T08:33:38.802966Z",
     "shell.execute_reply": "2024-05-18T08:33:38.808355Z"
    },
    "trusted": true,
    "ExecuteTime": {
     "end_time": "2024-05-20T09:04:19.681549Z",
     "start_time": "2024-05-20T09:04:19.679109Z"
    }
   },
   "execution_count": 76,
   "outputs": []
  },
  {
   "cell_type": "code",
   "source": "X_train, X_test, y_train, y_test = train_test_split(np.array(image_paths), np.array(labels), test_size=0.10, random_state=42)",
   "metadata": {
    "execution": {
     "iopub.status.busy": "2024-05-18T08:33:41.813467Z",
     "iopub.execute_input": "2024-05-18T08:33:41.81383Z",
     "iopub.status.idle": "2024-05-18T08:33:41.825584Z",
     "shell.execute_reply.started": "2024-05-18T08:33:41.813802Z",
     "shell.execute_reply": "2024-05-18T08:33:41.824631Z"
    },
    "trusted": true,
    "ExecuteTime": {
     "end_time": "2024-05-20T09:04:19.718139Z",
     "start_time": "2024-05-20T09:04:19.715082Z"
    }
   },
   "execution_count": 77,
   "outputs": []
  },
  {
   "cell_type": "code",
   "source": "X_train_processed, y_train_processed = process_dataset(X_train, y_train)\nX_test_processed, y_test_processed = process_dataset(X_test, y_test)",
   "metadata": {
    "execution": {
     "iopub.status.busy": "2024-05-18T08:33:45.05362Z",
     "iopub.execute_input": "2024-05-18T08:33:45.053985Z",
     "iopub.status.idle": "2024-05-18T08:34:01.574752Z",
     "shell.execute_reply.started": "2024-05-18T08:33:45.053956Z",
     "shell.execute_reply": "2024-05-18T08:34:01.573888Z"
    },
    "trusted": true,
    "ExecuteTime": {
     "end_time": "2024-05-20T09:04:20.072317Z",
     "start_time": "2024-05-20T09:04:19.792857Z"
    }
   },
   "execution_count": 78,
   "outputs": []
  },
  {
   "cell_type": "code",
   "source": "X_train_input = {\"Input\": X_train_processed, \"Label\": y_train_processed}\nX_test_input = {\"Input\": X_test_processed, \"Label\": y_test_processed}",
   "metadata": {
    "execution": {
     "iopub.status.busy": "2024-05-18T08:34:01.576325Z",
     "iopub.execute_input": "2024-05-18T08:34:01.57661Z",
     "iopub.status.idle": "2024-05-18T08:34:01.581013Z",
     "shell.execute_reply.started": "2024-05-18T08:34:01.576586Z",
     "shell.execute_reply": "2024-05-18T08:34:01.580019Z"
    },
    "trusted": true,
    "ExecuteTime": {
     "end_time": "2024-05-20T09:04:20.076513Z",
     "start_time": "2024-05-20T09:04:20.073308Z"
    }
   },
   "execution_count": 79,
   "outputs": []
  },
  {
   "cell_type": "markdown",
   "source": "# Visualization",
   "metadata": {}
  },
  {
   "cell_type": "code",
   "source": "def visualize_df(df: pd.DataFrame):\n    fig, axes = plt.subplots(4, 4, figsize=(10, 5))\n\n    for i, ax in enumerate(axes.ravel()):\n        if i < len(df):\n            a = np.random.randint(1, len(df), 1)[0]\n            img_path = df.loc[a][['image_path']].values[0]\n            label = df.loc[a][[\"label\"]].values[0]\n            \n            image = Image.open(img_path).convert('RGB')\n            \n            ax.imshow(image)\n            ax.set_title(f\"CAPTCHA: {label}\")\n            ax.axis('off')\n            \n        else:\n            ax.axis('off')\n            \n    plt.tight_layout()\n    plt.show()",
   "metadata": {
    "execution": {
     "iopub.status.busy": "2024-05-18T08:34:01.582144Z",
     "iopub.execute_input": "2024-05-18T08:34:01.582481Z",
     "iopub.status.idle": "2024-05-18T08:34:01.593448Z",
     "shell.execute_reply.started": "2024-05-18T08:34:01.582451Z",
     "shell.execute_reply": "2024-05-18T08:34:01.592541Z"
    },
    "trusted": true,
    "ExecuteTime": {
     "end_time": "2024-05-20T09:04:20.081161Z",
     "start_time": "2024-05-20T09:04:20.077214Z"
    }
   },
   "execution_count": 80,
   "outputs": []
  },
  {
   "cell_type": "code",
   "source": "visualize_df(images_df)",
   "metadata": {
    "execution": {
     "iopub.status.busy": "2024-05-18T08:34:02.28962Z",
     "iopub.execute_input": "2024-05-18T08:34:02.289987Z",
     "iopub.status.idle": "2024-05-18T08:34:03.459336Z",
     "shell.execute_reply.started": "2024-05-18T08:34:02.289958Z",
     "shell.execute_reply": "2024-05-18T08:34:03.458238Z"
    },
    "trusted": true,
    "ExecuteTime": {
     "end_time": "2024-05-20T09:04:20.469346Z",
     "start_time": "2024-05-20T09:04:20.082950Z"
    }
   },
   "execution_count": 81,
   "outputs": []
  },
  {
   "cell_type": "markdown",
   "source": "# Model",
   "metadata": {}
  },
  {
   "cell_type": "code",
   "source": "class CTCLayer(layers.Layer):\n    def __init__(self, name=None):\n        super().__init__(name=name)\n        self.loss_fn = ctc_batch_cost\n\n    def call(self, y_true, y_pred):\n        batch_length = tf.cast(tf.shape(y_true)[0], dtype=\"int64\")\n        input_length = tf.cast(tf.shape(y_pred)[1], dtype=\"int64\")\n        label_length = tf.cast(tf.shape(y_true)[1], dtype=\"int64\")\n\n        input_length = input_length * tf.ones(shape=(batch_length, 1), dtype=\"int64\")\n        label_length = label_length * tf.ones(shape=(batch_length, 1), dtype=\"int64\")\n\n        loss = self.loss_fn(y_true, y_pred, input_length, label_length)\n        self.add_loss(loss)\n\n        return y_pred",
   "metadata": {
    "execution": {
     "iopub.status.busy": "2024-05-18T08:34:11.223962Z",
     "iopub.execute_input": "2024-05-18T08:34:11.22436Z",
     "iopub.status.idle": "2024-05-18T08:34:11.233245Z",
     "shell.execute_reply.started": "2024-05-18T08:34:11.224329Z",
     "shell.execute_reply": "2024-05-18T08:34:11.232185Z"
    },
    "trusted": true,
    "ExecuteTime": {
     "end_time": "2024-05-20T09:04:20.472866Z",
     "start_time": "2024-05-20T09:04:20.470028Z"
    }
   },
   "execution_count": 82,
   "outputs": []
  },
  {
   "cell_type": "code",
   "source": "input_layer = layers.Input(shape=(200, 50, 1), name=\"Input\", dtype=\"float32\")\nlabel_layer = layers.Input(shape=(None,), name=\"Label\", dtype=\"float32\")\n\nconv2_1 = layers.Conv2D(filters=32, kernel_size=(3, 3), activation=\"relu\", kernel_initializer=\"he_normal\", padding=\"same\")(input_layer)\nmax2_1 = layers.MaxPooling2D(strides=(2, 2))(conv2_1)\n\nconv2_2 = layers.Conv2D(filters=64, kernel_size=(3, 3), activation=\"relu\", kernel_initializer=\"he_normal\", padding=\"same\")(max2_1)\nmax2_2 = layers.MaxPooling2D(strides=(2, 2))(conv2_2)\n\nreshape_layer = layers.Reshape(target_shape=((200 // 4), (50 // 4) * 64))(max2_2)\ndense_1 = layers.Dense(units=64, activation=\"relu\")(reshape_layer)\ndrop_1 = layers.Dropout((0.2))(dense_1)\n\nbilstm_1 = layers.Bidirectional(layers.LSTM(128, return_sequences=True, dropout=0.25))(drop_1)\nbilstm_2 = layers.Bidirectional(layers.LSTM(64, return_sequences=True, dropout=0.25))(bilstm_1)\n\noutput_layer = layers.Dense(len(characters) + 1, activation=\"softmax\", name=\"Output\")(bilstm_2)\n\noutput = CTCLayer(name=\"ctc_loss\")(label_layer, output_layer)\n\nmodel = models.Model(inputs=[input_layer, label_layer], outputs=output, name=\"OCR\")",
   "metadata": {
    "execution": {
     "iopub.status.busy": "2024-05-18T08:34:15.001865Z",
     "iopub.execute_input": "2024-05-18T08:34:15.002239Z",
     "iopub.status.idle": "2024-05-18T08:34:15.870414Z",
     "shell.execute_reply.started": "2024-05-18T08:34:15.00221Z",
     "shell.execute_reply": "2024-05-18T08:34:15.869611Z"
    },
    "trusted": true,
    "ExecuteTime": {
     "end_time": "2024-05-20T09:04:20.547209Z",
     "start_time": "2024-05-20T09:04:20.473910Z"
    }
   },
   "execution_count": 83,
   "outputs": []
  },
  {
   "cell_type": "code",
   "source": "model.compile(optimizer=optimizers.Adam())",
   "metadata": {
    "execution": {
     "iopub.status.busy": "2024-05-18T08:34:18.151267Z",
     "iopub.execute_input": "2024-05-18T08:34:18.151921Z",
     "iopub.status.idle": "2024-05-18T08:34:18.166559Z",
     "shell.execute_reply.started": "2024-05-18T08:34:18.151887Z",
     "shell.execute_reply": "2024-05-18T08:34:18.165589Z"
    },
    "trusted": true,
    "ExecuteTime": {
     "end_time": "2024-05-20T09:04:20.551265Z",
     "start_time": "2024-05-20T09:04:20.547792Z"
    }
   },
   "execution_count": 84,
   "outputs": []
  },
  {
   "cell_type": "code",
   "source": "model.summary()",
   "metadata": {
    "execution": {
     "iopub.status.busy": "2024-05-18T08:34:20.898712Z",
     "iopub.execute_input": "2024-05-18T08:34:20.899609Z",
     "iopub.status.idle": "2024-05-18T08:34:20.933399Z",
     "shell.execute_reply.started": "2024-05-18T08:34:20.899576Z",
     "shell.execute_reply": "2024-05-18T08:34:20.932524Z"
    },
    "trusted": true,
    "ExecuteTime": {
     "end_time": "2024-05-20T09:04:20.562237Z",
     "start_time": "2024-05-20T09:04:20.552027Z"
    }
   },
   "execution_count": 85,
   "outputs": []
  },
  {
   "cell_type": "code",
   "source": "plot_model(model, show_layer_names=True, show_shapes=True, expand_nested=True)",
   "metadata": {
    "execution": {
     "iopub.status.busy": "2024-05-18T08:34:26.996586Z",
     "iopub.execute_input": "2024-05-18T08:34:26.997353Z",
     "iopub.status.idle": "2024-05-18T08:34:27.796927Z",
     "shell.execute_reply.started": "2024-05-18T08:34:26.997319Z",
     "shell.execute_reply": "2024-05-18T08:34:27.795971Z"
    },
    "trusted": true,
    "ExecuteTime": {
     "end_time": "2024-05-20T09:04:21.100746Z",
     "start_time": "2024-05-20T09:04:20.563273Z"
    }
   },
   "execution_count": 86,
   "outputs": []
  },
  {
   "cell_type": "markdown",
   "source": "# Train",
   "metadata": {}
  },
  {
   "cell_type": "code",
   "source": "early_stopping = EarlyStopping(monitor=\"val_loss\", patience=5)",
   "metadata": {
    "execution": {
     "iopub.status.busy": "2024-05-18T08:34:37.661955Z",
     "iopub.execute_input": "2024-05-18T08:34:37.66232Z",
     "iopub.status.idle": "2024-05-18T08:34:37.666824Z",
     "shell.execute_reply.started": "2024-05-18T08:34:37.662292Z",
     "shell.execute_reply": "2024-05-18T08:34:37.665722Z"
    },
    "trusted": true,
    "ExecuteTime": {
     "end_time": "2024-05-20T09:04:21.114206Z",
     "start_time": "2024-05-20T09:04:21.111998Z"
    }
   },
   "execution_count": 87,
   "outputs": []
  },
  {
   "cell_type": "code",
   "source": [
    "history = model.fit(\n",
    "    X_train_input,\n",
    "    y_train_processed,\n",
    "    validation_data=(X_test_input, y_test_processed),\n",
    "    epochs=500,\n",
    "    batch_size=32,\n",
    "    #callbacks=[early_stopping]\n",
    ")\n",
    "model.save(\"captcha_mpets.keras\")"
   ],
   "metadata": {
    "execution": {
     "iopub.status.busy": "2024-05-18T08:34:40.628804Z",
     "iopub.execute_input": "2024-05-18T08:34:40.629472Z",
     "iopub.status.idle": "2024-05-18T08:47:38.577558Z",
     "shell.execute_reply.started": "2024-05-18T08:34:40.629439Z",
     "shell.execute_reply": "2024-05-18T08:47:38.576526Z"
    },
    "_kg_hide-output": true,
    "collapsed": true,
    "jupyter": {
     "outputs_hidden": true
    },
    "trusted": true,
    "ExecuteTime": {
     "end_time": "2024-05-20T09:04:25.262740Z",
     "start_time": "2024-05-20T09:04:21.115015Z"
    }
   },
   "execution_count": 88,
   "outputs": []
  },
  {
   "cell_type": "markdown",
   "source": "# Results",
   "metadata": {}
  },
  {
   "metadata": {
    "ExecuteTime": {
     "end_time": "2024-05-20T09:04:25.264127Z",
     "start_time": "2024-05-20T09:04:25.263932Z"
    }
   },
   "cell_type": "code",
   "source": [
    "# from keras import models\n",
    "# model = models.load_model(\"captcha_mpets.keras\", custom_objects={\"CTCLayer\": CTCLayer})"
   ],
   "execution_count": null,
   "outputs": []
  },
  {
   "cell_type": "code",
   "source": [
    "plt.figure()\n",
    "plt.plot(history.history[\"loss\"])\n",
    "plt.plot(history.history[\"val_loss\"])\n",
    "plt.xlabel(\"Эпохи\")\n",
    "plt.ylabel(\"Потери\")\n",
    "plt.legend([\"Обучение\", \"Валидация\"])\n",
    "plt.title(\"Кривая потерь\")\n",
    "plt.show()"
   ],
   "metadata": {
    "execution": {
     "iopub.status.busy": "2024-05-18T08:47:38.579688Z",
     "iopub.execute_input": "2024-05-18T08:47:38.580022Z",
     "iopub.status.idle": "2024-05-18T08:47:38.868512Z",
     "shell.execute_reply.started": "2024-05-18T08:47:38.579995Z",
     "shell.execute_reply": "2024-05-18T08:47:38.867619Z"
    },
    "trusted": true
   },
   "execution_count": null,
   "outputs": []
  },
  {
   "cell_type": "markdown",
   "source": "# Test",
   "metadata": {}
  },
  {
   "cell_type": "code",
   "source": [
    "preds = model.predict(X_test_input)\n",
    "input_length = np.ones(preds.shape[0]) * preds.shape[1]\n",
    "results = ctc_decode(preds, input_length=input_length, greedy=True)[0][0][:, :6]\n",
    "pred_texts = []\n",
    "for result in results:\n",
    "    res = tf.strings.reduce_join(num_to_char(result+1)).numpy().decode(\"utf-8\")\n",
    "    pred_texts.append(res)\n"
   ],
   "metadata": {
    "execution": {
     "iopub.status.busy": "2024-05-18T08:49:57.53699Z",
     "iopub.execute_input": "2024-05-18T08:49:57.538384Z",
     "iopub.status.idle": "2024-05-18T08:49:59.442511Z",
     "shell.execute_reply.started": "2024-05-18T08:49:57.538336Z",
     "shell.execute_reply": "2024-05-18T08:49:59.441426Z"
    },
    "trusted": true
   },
   "execution_count": null,
   "outputs": []
  },
  {
   "metadata": {
    "ExecuteTime": {
     "end_time": "2024-05-20T09:04:30.173291Z",
     "start_time": "2024-05-20T09:04:29.914697Z"
    }
   },
   "cell_type": "code",
   "source": [
    "# Загрузка изображения\n",
    "image_path = \"./mp/samples/440401.png\"  # Замените на путь к вашему изображению\n",
    "image = Image.open(image_path)\n",
    "\n",
    "# Предобработка изображения\n",
    "image = image.convert('L')  # Преобразование в оттенки серого\n",
    "image = image.resize((50, 200))  #  # Преобразуем изображение в формат RGB\n",
    "image_array = np.array(image)  # Преобразуем изображение в массив numpy\n",
    "image_array = image_array / 255.0  # Нормализуем значения пикселей до диапазона [0, 1]\n",
    "\n",
    "# Добавляем измерение для батча (если модель ожидает пакет изображений)\n",
    "image_array = np.expand_dims(image_array, axis=0)\n",
    "\n",
    "label_array = np.zeros((1, 6))\n",
    "\n",
    "char_to_num = layers.StringLookup(\n",
    "    vocabulary = list({'1', '2', '3', '4', '5', '6', '7', '8', '9', '0'}),\n",
    "    num_oov_indices = 0,\n",
    "    mask_token = None\n",
    ")\n",
    "\n",
    "num_to_char = layers.StringLookup(\n",
    "    vocabulary = char_to_num.get_vocabulary(),\n",
    "    mask_token = None,\n",
    "    invert = True\n",
    ")\n",
    "\n",
    "# Передача изображения в модель для предсказания\n",
    "predictions = model.predict([image_array, label_array])\n",
    "# Получение результата\n",
    "sequence_length = [image_array.shape[2]]  # Предполагается, что изображение представлено как (batch_size, height, width, channels)\n",
    "\n",
    "# Декодирование предсказаний\n",
    "decoded_result, _ = tf.keras.backend.ctc_decode(predictions, input_length=sequence_length)\n",
    "\n",
    "pred_texts = []\n",
    "for result in decoded_result:\n",
    "    res = tf.strings.reduce_join(num_to_char(result[:, :6] + 1)).numpy().decode(\"utf-8\")\n",
    "    pred_texts.append(res)\n",
    "\n",
    "print(pred_texts)"
   ],
   "execution_count": 89,
   "outputs": []
  },
  {
   "cell_type": "code",
   "source": [
    "pred_df = pd.DataFrame({\n",
    "    \"Путь до файла\": X_test,\n",
    "    \"Ожидалось\": y_test,\n",
    "    \"Результат\": pred_texts,\n",
    "    \"Совпадение\": [1 if y_test[i] == pred_texts[i] else 0 for i in range(len(y_test))]\n",
    "})\n",
    "print(X_test)"
   ],
   "metadata": {
    "execution": {
     "iopub.status.busy": "2024-05-18T08:50:00.81218Z",
     "iopub.execute_input": "2024-05-18T08:50:00.812554Z",
     "iopub.status.idle": "2024-05-18T08:50:00.817898Z",
     "shell.execute_reply.started": "2024-05-18T08:50:00.812527Z",
     "shell.execute_reply": "2024-05-18T08:50:00.816938Z"
    },
    "trusted": true
   },
   "execution_count": null,
   "outputs": []
  },
  {
   "cell_type": "code",
   "source": "pred_df.head(1000)",
   "metadata": {
    "execution": {
     "iopub.status.busy": "2024-05-18T08:50:02.053136Z",
     "iopub.execute_input": "2024-05-18T08:50:02.053508Z",
     "iopub.status.idle": "2024-05-18T08:50:02.064095Z",
     "shell.execute_reply.started": "2024-05-18T08:50:02.053481Z",
     "shell.execute_reply": "2024-05-18T08:50:02.063116Z"
    },
    "trusted": true
   },
   "execution_count": null,
   "outputs": []
  },
  {
   "metadata": {},
   "cell_type": "code",
   "source": "pred_df.to_excel(\"preds.xlsx\")",
   "execution_count": null,
   "outputs": []
  },
  {
   "cell_type": "code",
   "source": [
    "def visualize_predictions(df: pd.DataFrame):\n",
    "    fig, axes = plt.subplots(4, 4, figsize=(10, 5))\n",
    "\n",
    "    for i, ax in enumerate(axes.ravel()):\n",
    "        if i < len(df):\n",
    "            a = np.random.randint(1, len(df), 1)[0]\n",
    "            img_path = df.loc[a][['image_path']].values[0]\n",
    "            label = df.loc[a][[\"label\"]].values[0]\n",
    "            pred = df.loc[a][[\"pred\"]].values[0]\n",
    "            \n",
    "            image = Image.open(img_path).convert('RGB')\n",
    "            \n",
    "            ax.imshow(image)\n",
    "            ax.set_title(f\"Ожидалось: {label}\\nРезультат: {pred}\")\n",
    "            ax.axis('off')\n",
    "            \n",
    "        else:\n",
    "            ax.axis('off')\n",
    "            \n",
    "    plt.tight_layout()\n",
    "    plt.show()"
   ],
   "metadata": {
    "execution": {
     "iopub.status.busy": "2024-05-18T08:50:09.366348Z",
     "iopub.execute_input": "2024-05-18T08:50:09.367043Z",
     "iopub.status.idle": "2024-05-18T08:50:09.374514Z",
     "shell.execute_reply.started": "2024-05-18T08:50:09.367014Z",
     "shell.execute_reply": "2024-05-18T08:50:09.373579Z"
    },
    "trusted": true
   },
   "execution_count": null,
   "outputs": []
  },
  {
   "cell_type": "code",
   "source": "visualize_predictions(pred_df)",
   "metadata": {
    "execution": {
     "iopub.status.busy": "2024-05-18T08:50:10.513274Z",
     "iopub.execute_input": "2024-05-18T08:50:10.513643Z",
     "iopub.status.idle": "2024-05-18T08:50:11.973524Z",
     "shell.execute_reply.started": "2024-05-18T08:50:10.513617Z",
     "shell.execute_reply": "2024-05-18T08:50:11.972556Z"
    },
    "trusted": true
   },
   "execution_count": null,
   "outputs": []
  },
  {
   "cell_type": "code",
   "source": "",
   "metadata": {},
   "execution_count": null,
   "outputs": []
  },
  {
   "metadata": {},
   "cell_type": "code",
   "source": "",
   "execution_count": null,
   "outputs": []
  }
 ]
}
